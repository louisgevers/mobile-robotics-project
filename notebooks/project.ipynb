{
 "cells": [
  {
   "cell_type": "markdown",
   "metadata": {},
   "source": [
    "# Basics of Mobile Robotics: Project"
   ]
  },
  {
   "cell_type": "code",
   "execution_count": null,
   "metadata": {},
   "outputs": [],
   "source": [
    "import time\n",
    "from src import vision, pathfinder, navglobal, navlocal, thymio, filtering"
   ]
  },
  {
   "cell_type": "markdown",
   "metadata": {},
   "source": [
    "## Final run sketch\n",
    "\n",
    "The following sketches what the final run should look like combining every module together."
   ]
  },
  {
   "cell_type": "code",
   "execution_count": null,
   "metadata": {},
   "outputs": [],
   "source": [
    "world = vision.analyze_scene()\n",
    "path = pathfinder.find_path(world)\n",
    "sensor_data = thymio.read_sensor_data()\n",
    "Kalmanfilter= filtering.initialise(initialpos,initialangle)\n",
    "\n",
    "while not world.robot_at_goal():\n",
    "    if navlocal.sees_obstacle(sensor_data):\n",
    "        command = navlocal.avoid_obstacle(sensor_data)\n",
    "    else:\n",
    "        command = navglobal.follow_path(world.robot, world.goal, path)\n",
    "    thymio.process_command(command)\n",
    "    sensors = thymio.read_sensor_data()\n",
    "    filtering.update_robot(world.robot, command, sensors,Kalmanfilter)\n",
    "    time.sleep(0.1)\n",
    "\n",
    "print(\"Completed!\")"
   ]
  }
 ],
 "metadata": {
  "kernelspec": {
   "display_name": "Python 3.10.1 64-bit",
   "language": "python",
   "name": "python3"
  },
  "language_info": {
   "codemirror_mode": {
    "name": "ipython",
    "version": 3
   },
   "file_extension": ".py",
   "mimetype": "text/x-python",
   "name": "python",
   "nbconvert_exporter": "python",
   "pygments_lexer": "ipython3",
   "version": "3.10.1"
  },
  "orig_nbformat": 4,
  "vscode": {
   "interpreter": {
    "hash": "ad3afe6606343acfe903ebc96f8aeb52e39d74ef327f91962a7a428567debb4d"
   }
  }
 },
 "nbformat": 4,
 "nbformat_minor": 2
}
