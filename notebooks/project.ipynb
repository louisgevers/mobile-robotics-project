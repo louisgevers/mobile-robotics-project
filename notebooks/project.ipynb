{
 "cells": [
  {
   "cell_type": "markdown",
   "metadata": {},
   "source": [
    "# Basics of Mobile Robotics: Project"
   ]
  },
  {
   "cell_type": "code",
   "execution_count": null,
   "metadata": {},
   "outputs": [],
   "source": [
    "import time\n",
    "from src import vision, pathfinder, navglobal, navlocal, thymio, filtering"
   ]
  },
  {
   "cell_type": "markdown",
   "metadata": {},
   "source": [
    "## Final run sketch\n",
    "\n",
    "The following sketches what the final run should look like combining every module together."
   ]
  },
  {
   "cell_type": "code",
   "execution_count": null,
   "metadata": {},
   "outputs": [],
   "source": [
    "world = vision.analyze_scene()\n",
    "path = pathfinder.find_path(world)\n",
    "sensor_data = thymio.read_sensor_data()\n",
    "\n",
    "while not world.robot_at_goal():\n",
    "    if navlocal.sees_obstacle(sensor_data):\n",
    "        command = navlocal.avoid_obstacle(sensor_data)\n",
    "    else:\n",
    "        command = navglobal.follow_path(world.robot, world.goal, path)\n",
    "    thymio.process_command(command)\n",
    "    sensors = thymio.read_sensor_data()\n",
    "    filtering.update_robot(world.robot, command, sensors)\n",
    "    time.sleep(0.1)\n",
    "\n",
    "print(\"Completed!\")"
   ]
  }
 ],
 "metadata": {
  "kernelspec": {
   "display_name": "Python 3.8.13 ('thymio')",
   "language": "python",
   "name": "python3"
  },
  "language_info": {
   "codemirror_mode": {
    "name": "ipython",
    "version": 3
   },
   "file_extension": ".py",
   "mimetype": "text/x-python",
   "name": "python",
   "nbconvert_exporter": "python",
   "pygments_lexer": "ipython3",
   "version": "3.8.13"
  },
  "orig_nbformat": 4,
  "vscode": {
   "interpreter": {
    "hash": "d5cb2b05fda319fcaf36b2b811f9866acb85f635c74b98cc7029a7ace995d9f4"
   }
  }
 },
 "nbformat": 4,
 "nbformat_minor": 2
}
