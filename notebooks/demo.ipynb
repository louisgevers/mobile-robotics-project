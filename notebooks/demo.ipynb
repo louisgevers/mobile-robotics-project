{
 "cells": [
  {
   "cell_type": "markdown",
   "metadata": {},
   "source": [
    "# Demo Notebook\n",
    "\n",
    "Only the necessary code for the presentation."
   ]
  },
  {
   "cell_type": "code",
   "execution_count": 3,
   "metadata": {},
   "outputs": [],
   "source": [
    "# Imports\n",
    "from src import model, thymio, vision, pathfinder, navglobal, navlocal, filtering, draw\n",
    "import numpy as np"
   ]
  },
  {
   "cell_type": "code",
   "execution_count": null,
   "metadata": {},
   "outputs": [],
   "source": [
    "# Use the webcam, adapt the index according to your computer and the webcamp port\n",
    "# This index corresponds to OpenCV's VideoCapture index\n",
    "source = vision.WebcamSource(index=2)\n",
    "# Create our vision tools\n",
    "tools = vision.VisionTools()"
   ]
  },
  {
   "cell_type": "code",
   "execution_count": null,
   "metadata": {},
   "outputs": [],
   "source": [
    "# Calibrate with the aruco markers, this can take a few frames\n",
    "ready = False\n",
    "while not ready:\n",
    "    img = source.get_frame()\n",
    "    corners_by_id = tools.get_aruco_dict(img)\n",
    "    try:\n",
    "        calibrated = tools.get_aruco_calibrated(img, corners_by_id)\n",
    "        ready = True\n",
    "    except:\n",
    "        ready = False\n",
    "draw.plot_image(calibrated)"
   ]
  },
  {
   "cell_type": "code",
   "execution_count": null,
   "metadata": {},
   "outputs": [],
   "source": [
    "# Pick the right blue bounds\n",
    "blue_bounds=vision.HSVBound(lb=np.array([80, 60, 120]), ub=np.array([100, 120, 150]))\n",
    "mask = tools.get_color_mask(calibrated, blue_bounds)\n",
    "draw.plot_image(mask)"
   ]
  },
  {
   "cell_type": "code",
   "execution_count": null,
   "metadata": {},
   "outputs": [],
   "source": [
    "# Pick the right red bounds\n",
    "red_bounds=vision.HSVBound(lb=np.array([170, 100, 130]), ub=np.array([180, 180, 250]))\n",
    "mask = tools.get_color_mask(calibrated, red_bounds)\n",
    "draw.plot_image(mask)"
   ]
  },
  {
   "cell_type": "code",
   "execution_count": null,
   "metadata": {},
   "outputs": [],
   "source": [
    "# Our vision pipeline is ready to be used!\n",
    "viz = vision.VisionPipeline(source, tools=tools, red_bounds=red_bounds, blue_bounds=blue_bounds, dilate_factor=140)\n",
    "# Compute the world\n",
    "world = viz.analyze_scene()\n",
    "# Compute the path\n",
    "path = pathfinder.find_path(world, tools.target_resolution)\n",
    "# Display result\n",
    "result = draw.draw_world(calibrated, world)\n",
    "result = draw.draw_path(result, path)\n",
    "draw.plot_image(result)"
   ]
  },
  {
   "cell_type": "code",
   "execution_count": null,
   "metadata": {},
   "outputs": [],
   "source": [
    "# Connect with the Thymio\n",
    "th = thymio.Thymio()\n",
    "# Setup global and local navigation object\n",
    "navigator = navglobal.GlobalNavigation(path)\n",
    "avoider = navlocal.LocalNavigation()\n",
    "# Flag to check if we were in local avoidance\n",
    "# This is used to recompute the path and update global navigation\n",
    "was_in_avoidance = False\n",
    "# Create the filter with initial state\n",
    "kalman = filtering.Filter(world.robot)\n",
    "\n",
    "# While we have not reached the goal\n",
    "while not world.robot_at_goal(60):\n",
    "    # Read data from the sensors\n",
    "    sensor_data = th.read_sensor_data()\n",
    "\n",
    "    # Check whether to use local or global navigation\n",
    "    if avoider.avoidance_mode(sensor_data):\n",
    "        command = avoider.next_command(sensor_data)\n",
    "        was_in_avoidance = True\n",
    "    else:\n",
    "        # Recompute path if we left local avoidance\n",
    "        if was_in_avoidance:\n",
    "            path = pathfinder.find_path(world, tools.target_resolution)\n",
    "            navigator = navglobal.GlobalNavigation(path)\n",
    "            was_in_avoidance = False\n",
    "        command = navigator.next_command(world.robot)\n",
    "    # Send the command to the Thymio\n",
    "    th.process_command(command)\n",
    "    # Read the pose from the camera\n",
    "    pose = viz.get_robot_pose()\n",
    "    # Update state with the filter\n",
    "    world.robot = kalman.update_robot(viz.last_robot_pose, command, sensor_data, camera=pose is not None)\n",
    "# Disconnect the Thymio\n",
    "th.stop()\n",
    "\n",
    "# Show the last frame\n",
    "draw.plot_image(viz.latest_frame)"
   ]
  }
 ],
 "metadata": {
  "kernelspec": {
   "display_name": "Python 3.8.13 ('thymio')",
   "language": "python",
   "name": "python3"
  },
  "language_info": {
   "codemirror_mode": {
    "name": "ipython",
    "version": 3
   },
   "file_extension": ".py",
   "mimetype": "text/x-python",
   "name": "python",
   "nbconvert_exporter": "python",
   "pygments_lexer": "ipython3",
   "version": "3.8.13"
  },
  "orig_nbformat": 4,
  "vscode": {
   "interpreter": {
    "hash": "d5cb2b05fda319fcaf36b2b811f9866acb85f635c74b98cc7029a7ace995d9f4"
   }
  }
 },
 "nbformat": 4,
 "nbformat_minor": 2
}
