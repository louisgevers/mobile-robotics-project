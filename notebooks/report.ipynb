{
 "cells": [
  {
   "cell_type": "markdown",
   "metadata": {},
   "source": [
    "# Basics of Mobile Robotics: Project Report\n",
    "\n",
    "Authors:\n",
    "Louis Gevers, Paul Blossier, Zing\n",
    "Shawn Tan, Naël Dillenbourg"
   ]
  },
  {
   "cell_type": "markdown",
   "metadata": {},
   "source": [
    "## 1. Robot Environment\n",
    "\n",
    "The robot has to navigate a square environment on a white sheet, where it has to reach a blue square while avoiding the red ones, from wherever it is released.\n",
    "We make use of ArUco markers, whose detection is robust, fast, and simple [1].\n",
    "Four markers are used to denote the corners of the environment, and a fifth one is put on the robot to obtain the relative position and orientation of the robot with respect to the corners.\n",
    "We first used small colored squares, but as we will show in the vision section, we have to choose the correct values to detect these colours, which can change with different lighting conditions.\n",
    "We therefore chose to only calibrate for the goal and obstacles, blue and red squares respectively, and not the corners and robot position, which use ArUco markers and therefore do not need adjustements with different lighting.\n",
    "\n",
    "The environment for this project has two types of obstacles:\n",
    "1. Permanent obstacles which are accounted for in the path planning and detected by our vision module (the red squares).\n",
    "2. Temporary obstacles which we cannot account for during path planning. These are detected by the local navigation module that takes control when an object is close enough to the proximity sensors.\n",
    "\n",
    "We chose a sparse, non-discrete environment, as we were more comfortable for the Thymio to do long straight lines with occasional small turns rather than the many rotations with small advancements required in a grid-like environment (it would also be faster).\n",
    "As we went on with the project we discovered that this brings its challenges, as it is much harder to update the map when seeing obstacles and the control is not as straightforward.\n",
    "If we were to do the project again we would probably go for a grid-like structure for easier map updates."
   ]
  },
  {
   "cell_type": "markdown",
   "metadata": {},
   "source": [
    "## 2. Project Structure"
   ]
  },
  {
   "cell_type": "markdown",
   "metadata": {},
   "source": [
    "## 3. Implementation"
   ]
  },
  {
   "cell_type": "markdown",
   "metadata": {},
   "source": [
    "## 4. Demo"
   ]
  },
  {
   "cell_type": "markdown",
   "metadata": {},
   "source": [
    "## References\n",
    "\n",
    "[1] https://docs.opencv.org/4.x/d5/dae/tutorial_aruco_detection.html"
   ]
  }
 ],
 "metadata": {
  "kernelspec": {
   "display_name": "Python 3.8.13 ('thymio')",
   "language": "python",
   "name": "python3"
  },
  "language_info": {
   "name": "python",
   "version": "3.8.13"
  },
  "orig_nbformat": 4,
  "vscode": {
   "interpreter": {
    "hash": "d5cb2b05fda319fcaf36b2b811f9866acb85f635c74b98cc7029a7ace995d9f4"
   }
  }
 },
 "nbformat": 4,
 "nbformat_minor": 2
}
