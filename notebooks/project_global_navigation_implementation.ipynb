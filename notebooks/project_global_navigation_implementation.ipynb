{
 "cells": [
  {
   "cell_type": "markdown",
   "metadata": {},
   "source": [
    "# Basics of Mobile Robotics: Project - Part Global Nav\n",
    "\n",
    "\n",
    "# Author : PB"
   ]
  },
  {
   "cell_type": "code",
   "execution_count": 2,
   "metadata": {},
   "outputs": [],
   "source": [
    "import numpy as np\n",
    "import control as ct\n",
    "import control.optimal as opt\n",
    "import matplotlib.pyplot as plt"
   ]
  },
  {
   "cell_type": "markdown",
   "metadata": {},
   "source": [
    "## GLOBAL NAVIGATION IMPLEMENTATION\n",
    "\n",
    "I decided to develop and test my global navigation on this notebook before implementing it in the folder"
   ]
  },
  {
   "cell_type": "code",
   "execution_count": 223,
   "metadata": {},
   "outputs": [],
   "source": [
    "# USE OF MPC\n",
    "\n",
    "#\tX    -----------------      u       ---------\n",
    "#\t---> | MPC Regulator |------------> | Plant |----------> Output\n",
    "#\t|    -----------------              ---------   |\n",
    "#\t|           ^                                   |\n",
    "#\t|           | (xs, us)                          |\n",
    "#\t|           |                                   |\n",
    "#\t|           |       ------------                |\n",
    "#\t|           --------| target   |<----------------\n",
    "#\t|                   | selector |<-- reference   |\n",
    "#\t|                   ------------                |\n",
    "#\t|                                               |\n",
    "#\t-------------------------------------------------"
   ]
  },
  {
   "cell_type": "markdown",
   "metadata": {},
   "source": [
    "Initial parameters"
   ]
  },
  {
   "cell_type": "code",
   "execution_count": 216,
   "metadata": {},
   "outputs": [
    {
     "data": {
      "text/plain": [
       "[<matplotlib.lines.Line2D at 0x16ecad20a00>]"
      ]
     },
     "execution_count": 216,
     "metadata": {},
     "output_type": "execute_result"
    },
    {
     "data": {
      "image/png": "[encoded data removed]",
      "text/plain": [
       "<Figure size 432x288 with 1 Axes>"
      ]
     },
     "metadata": {
      "needs_background": "light"
     },
     "output_type": "display_data"
    }
   ],
   "source": [
    "Tf = 10\n",
    "min_velocity = 8\n",
    "max_velocity = 12\n",
    "min_deviation_phi = -2\n",
    "max_deviation_phi = 2\n",
    "\n",
    "tps = np.linspace(0, Tf, Tf)\n",
    "plt.plot(tps, 3*np.sin(tps/3))\n",
    "\n",
    "x0 = [0., 0., 0.]; u0 = [np.sqrt((tps[1]-tps[0])**2 + (np.sin(tps[1])-np.sin(tps[0]))**2), (tps[1]-tps[0])/Tf]\n",
    "xf = [tps[-1], 3*np.sin(tps[-1]/3), 0.]; uf = [0., 0.]\n",
    "\n",
    "plt.plot(x0[0], x0[1], marker=\"o\")\n",
    "plt.plot(xf[0], xf[1], marker=\"o\")"
   ]
  },
  {
   "cell_type": "markdown",
   "metadata": {},
   "source": [
    "Useful functions"
   ]
  },
  {
   "cell_type": "code",
   "execution_count": 185,
   "metadata": {},
   "outputs": [],
   "source": [
    "def vehicle_update(t, x, u, params):\n",
    "    # Get the parameters for the model\n",
    "    l = params.get('wheelbase', 3.)         # vehicle wheelbase\n",
    "    phimax = params.get('maxsteer', 0.5)    # max steering angle (rad)\n",
    "    \n",
    "    # Saturate the steering input\n",
    "    phi = np.clip(u[1], min_deviation_phi, max_deviation_phi)\n",
    "\n",
    "    # Return the derivative of the state\n",
    "    return np.array([\n",
    "        np.cos(x[2]) * u[0],            # xdot = cos(theta) v\n",
    "        np.sin(x[2]) * u[0],            # ydot = sin(theta) v\n",
    "        (u[0] / l) * np.tan(phi)        # thdot = v/l tan(phi)\n",
    "    ])\n",
    "\n",
    "\n",
    "\n",
    "def vehicle_output(t, x, u, params):\n",
    "    return x                            # return x, y, theta (full state)\n",
    "\n",
    "# Define the vehicle steering dynamics as an input/output system\n",
    "vehicle = ct.NonlinearIOSystem(\n",
    "    vehicle_update, vehicle_output, states=3, name='vehicle',\n",
    "    inputs=('v', 'phi'), outputs=('x', 'y', 'theta'))\n",
    "\n",
    "Q = np.diag([0, 0, 0.1])          # don't turn too sharply\n",
    "R = np.diag([1, 1])               # keep inputs small\n",
    "P = np.diag([1000, 1000, 1000])   # get close to final point"
   ]
  },
  {
   "cell_type": "markdown",
   "metadata": {},
   "source": [
    "First iteration test"
   ]
  },
  {
   "cell_type": "code",
   "execution_count": 221,
   "metadata": {},
   "outputs": [
    {
     "name": "stdout",
     "output_type": "stream",
     "text": [
      "Summary statistics:\n",
      "* Cost function calls: 986\n",
      "* System simulations: 986\n",
      "* Final cost: 4.8977042933806825\n"
     ]
    },
    {
     "name": "stderr",
     "output_type": "stream",
     "text": [
      "c:\\Users\\paul\\AppData\\Local\\Programs\\Python\\Python310\\lib\\site-packages\\control\\optimal.py:862: UserWarning: unable to solve optimal control problem\n",
      "scipy.optimize.minimize returned Desired error not necessarily achieved due to precision loss.\n",
      "  warnings.warn(\n"
     ]
    },
    {
     "data": {
      "image/png": "[encoded data removed]",
      "text/plain": [
       "<Figure size 432x288 with 1 Axes>"
      ]
     },
     "metadata": {
      "needs_background": "light"
     },
     "output_type": "display_data"
    }
   ],
   "source": [
    "LengthHorizon = 3\n",
    "\n",
    "xgoal = [tps[LengthHorizon], 3*np.sin(tps[LengthHorizon]/3), (tps[LengthHorizon]-tps[LengthHorizon-1])/Tf]\n",
    "traj_cost = opt.quadratic_cost(vehicle, Q, R, x0=xgoal, u0=u0)\n",
    "term_cost = opt.quadratic_cost(vehicle, P, 0, x0=xgoal)\n",
    "    \n",
    "#constraints = [ opt.input_range_constraint(vehicle, [min_velocity, min_deviation_phi], [max_velocity, max_deviation_phi]) ]\n",
    "constraints = []  \n",
    "\n",
    "horizon = np.linspace(0, LengthHorizon, LengthHorizon, endpoint=True)\n",
    "result = opt.solve_ocp(vehicle, horizon, x0, traj_cost, constraints,terminal_cost=term_cost, initial_guess=u0, log=False)\n",
    "\n",
    "# Simulate the system dynamics (open loop)\n",
    "resp = ct.input_output_response(\n",
    "    vehicle, horizon, result.inputs, x0,\n",
    "    t_eval=np.linspace(0, LengthHorizon, LengthHorizon))\n",
    "t, y, u = resp.time, resp.outputs, resp.inputs\n",
    "\n",
    "# Plot\n",
    "plt.plot(y[0], y[1])\n",
    "plt.plot(x0[0], x0[1], 'ro', xgoal[0], xgoal[1], 'ro', xf[0], xf[1], 'ro')\n",
    "plt.plot(tps, 3*np.sin(tps/3), 'g')\n",
    "\n",
    "plt.show()\n"
   ]
  },
  {
   "cell_type": "markdown",
   "metadata": {},
   "source": [
    "Optimization loop"
   ]
  },
  {
   "cell_type": "code",
   "execution_count": 222,
   "metadata": {},
   "outputs": [
    {
     "ename": "TypeError",
     "evalue": "quadratic_cost() got an unexpected keyword argument 'xcurrent'",
     "output_type": "error",
     "traceback": [
      "\u001b[1;31m---------------------------------------------------------------------------\u001b[0m",
      "\u001b[1;31mTypeError\u001b[0m                                 Traceback (most recent call last)",
      "\u001b[1;32mc:\\Users\\paul\\Documents\\GitHub\\mobile-robotics-project\\notebooks\\project_global_navigation_implementation.ipynb Cell 12\u001b[0m in \u001b[0;36m<cell line: 10>\u001b[1;34m()\u001b[0m\n\u001b[0;32m     <a href='vscode-notebook-cell:/c%3A/Users/paul/Documents/GitHub/mobile-robotics-project/notebooks/project_global_navigation_implementation.ipynb#X20sZmlsZQ%3D%3D?line=14'>15</a>\u001b[0m     index \u001b[39m=\u001b[39m Tf\n\u001b[0;32m     <a href='vscode-notebook-cell:/c%3A/Users/paul/Documents/GitHub/mobile-robotics-project/notebooks/project_global_navigation_implementation.ipynb#X20sZmlsZQ%3D%3D?line=16'>17</a>\u001b[0m xgoal \u001b[39m=\u001b[39m [tps[index], \u001b[39m3\u001b[39m\u001b[39m*\u001b[39mnp\u001b[39m.\u001b[39msin(tps[index]\u001b[39m/\u001b[39m\u001b[39m3\u001b[39m), (tps[index]\u001b[39m-\u001b[39mtps[index\u001b[39m-\u001b[39m\u001b[39m1\u001b[39m])\u001b[39m/\u001b[39mTf]\n\u001b[1;32m---> <a href='vscode-notebook-cell:/c%3A/Users/paul/Documents/GitHub/mobile-robotics-project/notebooks/project_global_navigation_implementation.ipynb#X20sZmlsZQ%3D%3D?line=17'>18</a>\u001b[0m traj_cost \u001b[39m=\u001b[39m opt\u001b[39m.\u001b[39;49mquadratic_cost(vehicle, Q, R, xcurrent\u001b[39m=\u001b[39;49mxgoal, u0\u001b[39m=\u001b[39;49mu0)\n\u001b[0;32m     <a href='vscode-notebook-cell:/c%3A/Users/paul/Documents/GitHub/mobile-robotics-project/notebooks/project_global_navigation_implementation.ipynb#X20sZmlsZQ%3D%3D?line=18'>19</a>\u001b[0m term_cost \u001b[39m=\u001b[39m opt\u001b[39m.\u001b[39mquadratic_cost(vehicle, P, \u001b[39m0\u001b[39m, xcurrent\u001b[39m=\u001b[39mxgoal)\n\u001b[0;32m     <a href='vscode-notebook-cell:/c%3A/Users/paul/Documents/GitHub/mobile-robotics-project/notebooks/project_global_navigation_implementation.ipynb#X20sZmlsZQ%3D%3D?line=20'>21</a>\u001b[0m \u001b[39m#constraints = [ opt.input_range_constraint(vehicle, [min_velocity, min_deviation_phi], [max_velocity, max_deviation_phi]) ]\u001b[39;00m\n",
      "\u001b[1;31mTypeError\u001b[0m: quadratic_cost() got an unexpected keyword argument 'xcurrent'"
     ]
    }
   ],
   "source": [
    "# still working on this part\n",
    "\n",
    "Xfinal = np.zeros((Tf,2))\n",
    "\n",
    "LengthHorizon = 3\n",
    "eps = 0.5\n",
    "\n",
    "xcurrent = x0\n",
    "ite = 0\n",
    "while (abs(xcurrent[0]-xf[0])>eps and abs(xcurrent[1]-xf[1])>eps) and ite<15:\n",
    "\n",
    "    if (ite+LengthHorizon<Tf):\n",
    "        index = ite+LengthHorizon\n",
    "    else:\n",
    "        index = Tf\n",
    "\n",
    "    xgoal = [tps[index], 3*np.sin(tps[index]/3), (tps[index]-tps[index-1])/Tf]\n",
    "    traj_cost = opt.quadratic_cost(vehicle, Q, R, xcurrent=xgoal, u0=u0)\n",
    "    term_cost = opt.quadratic_cost(vehicle, P, 0, xcurrent=xgoal)\n",
    "    \n",
    "    #constraints = [ opt.input_range_constraint(vehicle, [min_velocity, min_deviation_phi], [max_velocity, max_deviation_phi]) ]\n",
    "    constraints = []  \n",
    "\n",
    "    horizon = np.linspace(0, LengthHorizon, LengthHorizon, endpoint=True)\n",
    "    result = opt.solve_ocp(vehicle, horizon, xcurrent[ite], traj_cost, constraints,terminal_cost=term_cost, initial_guess=u0)\n",
    "\n",
    "    # Simulate the system dynamics (open loop)\n",
    "    resp = ct.input_output_response(\n",
    "        vehicle, horizon, result.inputs, x0,\n",
    "        t_eval=np.linspace(0, LengthHorizon, LengthHorizon))\n",
    "    t, y, u = resp.time, resp.outputs, resp.inputs\n",
    "    \n",
    "    Xfinal[ite,:] = y\n",
    "\n",
    "    ite += 1"
   ]
  },
  {
   "cell_type": "markdown",
   "metadata": {},
   "source": [
    "Final plot"
   ]
  }
 ],
 "metadata": {
  "kernelspec": {
   "display_name": "Python 3.10.1 64-bit",
   "language": "python",
   "name": "python3"
  },
  "language_info": {
   "codemirror_mode": {
    "name": "ipython",
    "version": 3
   },
   "file_extension": ".py",
   "mimetype": "text/x-python",
   "name": "python",
   "nbconvert_exporter": "python",
   "pygments_lexer": "ipython3",
   "version": "3.10.1"
  },
  "orig_nbformat": 4,
  "vscode": {
   "interpreter": {
    "hash": "ad3afe6606343acfe903ebc96f8aeb52e39d74ef327f91962a7a428567debb4d"
   }
  }
 },
 "nbformat": 4,
 "nbformat_minor": 2
}
