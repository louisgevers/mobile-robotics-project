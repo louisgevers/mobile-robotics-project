{
 "cells": [
  {
   "cell_type": "markdown",
   "metadata": {},
   "source": [
    "# Basics of Mobile Robotics: Project - Part Global Nav\n",
    "\n",
    "\n",
    "# Author : PB"
   ]
  },
  {
   "cell_type": "code",
   "execution_count": 277,
   "metadata": {},
   "outputs": [
    {
     "ename": "ModuleNotFoundError",
     "evalue": "No module named 'src'",
     "output_type": "error",
     "traceback": [
      "\u001b[1;31m---------------------------------------------------------------------------\u001b[0m",
      "\u001b[1;31mModuleNotFoundError\u001b[0m                       Traceback (most recent call last)",
      "\u001b[1;32mc:\\Users\\paul\\Documents\\GitHub\\mobile-robotics-project\\notebooks\\project_global_navigation_implementation.ipynb Cell 2\u001b[0m in \u001b[0;36m<cell line: 6>\u001b[1;34m()\u001b[0m\n\u001b[0;32m      <a href='vscode-notebook-cell:/c%3A/Users/paul/Documents/GitHub/mobile-robotics-project/notebooks/project_global_navigation_implementation.ipynb#W1sZmlsZQ%3D%3D?line=3'>4</a>\u001b[0m \u001b[39mimport\u001b[39;00m \u001b[39mmatplotlib\u001b[39;00m\u001b[39m.\u001b[39;00m\u001b[39mpyplot\u001b[39;00m \u001b[39mas\u001b[39;00m \u001b[39mplt\u001b[39;00m\n\u001b[0;32m      <a href='vscode-notebook-cell:/c%3A/Users/paul/Documents/GitHub/mobile-robotics-project/notebooks/project_global_navigation_implementation.ipynb#W1sZmlsZQ%3D%3D?line=4'>5</a>\u001b[0m \u001b[39mimport\u001b[39;00m \u001b[39mscipy\u001b[39;00m\u001b[39m.\u001b[39;00m\u001b[39moptimize\u001b[39;00m \u001b[39mas\u001b[39;00m \u001b[39mscopt\u001b[39;00m\n\u001b[1;32m----> <a href='vscode-notebook-cell:/c%3A/Users/paul/Documents/GitHub/mobile-robotics-project/notebooks/project_global_navigation_implementation.ipynb#W1sZmlsZQ%3D%3D?line=5'>6</a>\u001b[0m \u001b[39mfrom\u001b[39;00m \u001b[39msrc\u001b[39;00m \u001b[39mimport\u001b[39;00m model, thymio\n",
      "\u001b[1;31mModuleNotFoundError\u001b[0m: No module named 'src'"
     ]
    }
   ],
   "source": [
    "import numpy as np\n",
    "import control as ct\n",
    "import control.optimal as opt\n",
    "import matplotlib.pyplot as plt\n",
    "import scipy.optimize as scopt\n",
    "from src import model"
   ]
  },
  {
   "cell_type": "markdown",
   "metadata": {},
   "source": [
    "## GLOBAL NAVIGATION IMPLEMENTATION\n",
    "\n",
    "I decided to develop and test my global navigation on this notebook before implementing it in the folder"
   ]
  },
  {
   "cell_type": "code",
   "execution_count": 263,
   "metadata": {},
   "outputs": [],
   "source": [
    "# USE OF MPC\n",
    "\n",
    "#\tX    -----------------      u       ---------\n",
    "#\t---> | MPC Regulator |------------> | Plant |----------> Output\n",
    "#\t|    -----------------              ---------   |\n",
    "#\t|           ^                                   |\n",
    "#\t|           | (xs, us)                          |\n",
    "#\t|           |                                   |\n",
    "#\t|           |       ------------                |\n",
    "#\t|           --------| target   |<----------------\n",
    "#\t|                   | selector |<-- reference   |\n",
    "#\t|                   ------------                |\n",
    "#\t|                                               |\n",
    "#\t-------------------------------------------------"
   ]
  },
  {
   "cell_type": "markdown",
   "metadata": {},
   "source": [
    "Initial parameters"
   ]
  },
  {
   "cell_type": "code",
   "execution_count": 275,
   "metadata": {},
   "outputs": [
    {
     "data": {
      "text/plain": [
       "[<matplotlib.lines.Line2D at 0x1cf9d80bd00>]"
      ]
     },
     "execution_count": 275,
     "metadata": {},
     "output_type": "execute_result"
    },
    {
     "data": {
      "image/png": "[encoded data removed]",
      "text/plain": [
       "<Figure size 432x288 with 1 Axes>"
      ]
     },
     "metadata": {
      "needs_background": "light"
     },
     "output_type": "display_data"
    }
   ],
   "source": [
    "# initialization block\n",
    "Tf = 10\n",
    "min_velocity = 0\n",
    "max_velocity = 1\n",
    "min_deviation_phi = -1\n",
    "max_deviation_phi = 1\n",
    "\n",
    "tps = np.linspace(0, Tf, Tf)\n",
    "\n",
    "\n",
    "#create the data point\n",
    "xaxis = np.linspace(0.0, 10.0, num=10)\n",
    "yaxis = 3*np.sin(xaxis/3)\n",
    "\n",
    "#plt.plot(tps, 3*np.sin(tps/3))\n",
    "plt.plot(xaxis, yaxis)\n",
    "\n",
    "x0 = [0., 0., 0.7]; u0 = [np.sqrt((tps[1]-tps[0])**2 + (np.sin(tps[1])-np.sin(tps[0]))**2), (tps[1]-tps[0])/Tf]\n",
    "xf = [tps[-1], 3*np.sin(tps[-1]/3), 0.]; uf = [10., 0.]\n",
    "\n",
    "def lafonc(x):\n",
    "    return 3*np.sin(x/3)\n",
    "\n",
    "Q = np.array([[10, 1, 0],[1, 10, 0], [0, 0, 0.1]])          # don't turn too sharply\n",
    "R = np.diag([0.1, 0.1])               # keep inputs small\n",
    "P = np.diag([10, 10, 0])   # get close to final point\n",
    "\n",
    "\n",
    "plt.plot(x0[0], x0[1], marker=\"o\")\n",
    "plt.plot(xf[0], xf[1], marker=\"o\")"
   ]
  },
  {
   "cell_type": "markdown",
   "metadata": {},
   "source": [
    "Useful functions"
   ]
  },
  {
   "cell_type": "code",
   "execution_count": 265,
   "metadata": {},
   "outputs": [],
   "source": [
    "def vehicle_update(t, x, u, params):\n",
    "    # Get the parameters for the model\n",
    "    l = params.get('wheelbase', 3.)         # vehicle wheelbase\n",
    "    #phimax = params.get('maxsteer', 0.5)    # max steering angle (rad)\n",
    "    \n",
    "    # Saturate the steering input\n",
    "    phi = np.clip(u[1], min_deviation_phi, max_deviation_phi)\n",
    "\n",
    "    # Return the derivative of the state\n",
    "    return np.array([\n",
    "        np.cos(x[2]) * u[0],            # xdot = cos(theta) v\n",
    "        np.sin(x[2]) * u[0],            # ydot = sin(theta) v\n",
    "        (u[0] / l) * np.tan(phi)        # thdot = v/l tan(phi)\n",
    "    ])\n",
    "\n",
    "\n",
    "\n",
    "def vehicle_output(t, x, u, params):\n",
    "    return x                            # return x, y, theta (full state)\n",
    "\n",
    "# Define the vehicle steering dynamics as an input/output system\n",
    "vehicle = ct.NonlinearIOSystem(\n",
    "    vehicle_update, vehicle_output, states=3, name='vehicle',\n",
    "    inputs=('v', 'phi'), outputs=('x', 'y', 'theta'))"
   ]
  },
  {
   "cell_type": "markdown",
   "metadata": {},
   "source": [
    "First iteration test"
   ]
  },
  {
   "cell_type": "code",
   "execution_count": 266,
   "metadata": {},
   "outputs": [
    {
     "name": "stdout",
     "output_type": "stream",
     "text": [
      "Summary statistics:\n",
      "* Cost function calls: 77\n",
      "* Constraint calls: 93\n",
      "* System simulations: 140\n",
      "* Final cost: 3070.279254063228\n"
     ]
    },
    {
     "data": {
      "image/png": "[encoded data removed]",
      "text/plain": [
       "<Figure size 432x288 with 1 Axes>"
      ]
     },
     "metadata": {
      "needs_background": "light"
     },
     "output_type": "display_data"
    },
    {
     "name": "stdout",
     "output_type": "stream",
     "text": [
      "[[ 1.          1.00000001  1.        ]\n",
      " [ 0.06239319  0.18262615 -1.00000001]]\n"
     ]
    }
   ],
   "source": [
    "LengthHorizon = 3\n",
    "\n",
    "traj_cost = opt.quadratic_cost(vehicle, Q, R, x0=xf, u0=uf)\n",
    "term_cost = opt.quadratic_cost(vehicle, P, 0, x0=xf)\n",
    "\n",
    "def fun(x,u):\n",
    "    return x[1]-3*np.sin(x[0]/3)\n",
    "lb = -0.1\n",
    "ub = 0.1\n",
    "\n",
    "#constraints = [{\"type\": \"ineq\", \"fun\": lambda x: x[0] - 3*np.sin(x[1]/3)+2},{\"type\": \"ineq\", \"fun\": lambda x: -x[0] + 3*np.sin(x[1]/3)+2}]\n",
    "constraints = [(scopt.NonlinearConstraint, fun, lb, ub), opt.input_range_constraint(vehicle, [min_velocity, min_deviation_phi], [max_velocity, max_deviation_phi]) ]\n",
    "#constraints = []  \n",
    "\n",
    "horizon = np.linspace(0, LengthHorizon, LengthHorizon, endpoint=True)\n",
    "result = opt.solve_ocp(vehicle, horizon, x0, traj_cost, constraints, terminal_cost=term_cost, initial_guess=u0, log=False)\n",
    "\n",
    "# Simulate the system dynamics (open loop)\n",
    "resp = ct.input_output_response(\n",
    "    vehicle, horizon, result.inputs, x0,\n",
    "    t_eval=np.linspace(0, LengthHorizon, LengthHorizon))\n",
    "t, y, u = resp.time, resp.outputs, resp.inputs\n",
    "\n",
    "# Plot\n",
    "plt.plot(x0[0], x0[1], 'ro', xf[0], xf[1], 'ro')\n",
    "plt.plot(tps, 3*np.sin(tps/3), 'g')\n",
    "plt.plot(y[0], y[1], 'o-')\n",
    "plt.show()\n",
    "print(u)"
   ]
  },
  {
   "cell_type": "markdown",
   "metadata": {},
   "source": [
    "Optimization loop"
   ]
  },
  {
   "cell_type": "code",
   "execution_count": 267,
   "metadata": {},
   "outputs": [
    {
     "name": "stdout",
     "output_type": "stream",
     "text": [
      "step 0\n",
      "Summary statistics:\n",
      "* Cost function calls: 77\n",
      "* Constraint calls: 93\n",
      "* System simulations: 140\n",
      "* Final cost: 3070.279254063228\n",
      "step 1\n"
     ]
    },
    {
     "name": "stderr",
     "output_type": "stream",
     "text": [
      "c:\\Users\\paul\\AppData\\Local\\Programs\\Python\\Python310\\lib\\site-packages\\control\\optimal.py:862: UserWarning: unable to solve optimal control problem\n",
      "scipy.optimize.minimize returned Positive directional derivative for linesearch\n",
      "  warnings.warn(\n"
     ]
    },
    {
     "name": "stdout",
     "output_type": "stream",
     "text": [
      "Summary statistics:\n",
      "* Cost function calls: 522\n",
      "* Constraint calls: 577\n",
      "* System simulations: 858\n",
      "* Final cost: 2037.7338698043588\n",
      "step 2\n"
     ]
    },
    {
     "name": "stderr",
     "output_type": "stream",
     "text": [
      "c:\\Users\\paul\\AppData\\Local\\Programs\\Python\\Python310\\lib\\site-packages\\control\\optimal.py:862: UserWarning: unable to solve optimal control problem\n",
      "scipy.optimize.minimize returned Inequality constraints incompatible\n",
      "  warnings.warn(\n"
     ]
    },
    {
     "name": "stdout",
     "output_type": "stream",
     "text": [
      "Summary statistics:\n",
      "* Cost function calls: 926\n",
      "* Constraint calls: 1006\n",
      "* System simulations: 1437\n",
      "* Final cost: 1242.1862409748478\n",
      "step 3\n"
     ]
    },
    {
     "name": "stderr",
     "output_type": "stream",
     "text": [
      "c:\\Users\\paul\\AppData\\Local\\Programs\\Python\\Python310\\lib\\site-packages\\control\\optimal.py:862: UserWarning: unable to solve optimal control problem\n",
      "scipy.optimize.minimize returned Positive directional derivative for linesearch\n",
      "  warnings.warn(\n"
     ]
    },
    {
     "name": "stdout",
     "output_type": "stream",
     "text": [
      "Summary statistics:\n",
      "* Cost function calls: 112\n",
      "* Constraint calls: 130\n",
      "* System simulations: 189\n",
      "* Final cost: 584.6134643402813\n",
      "step 4\n",
      "Summary statistics:\n",
      "* Cost function calls: 203\n",
      "* Constraint calls: 229\n",
      "* System simulations: 336\n",
      "* Final cost: 194.03304661132915\n"
     ]
    },
    {
     "name": "stderr",
     "output_type": "stream",
     "text": [
      "c:\\Users\\paul\\AppData\\Local\\Programs\\Python\\Python310\\lib\\site-packages\\control\\optimal.py:862: UserWarning: unable to solve optimal control problem\n",
      "scipy.optimize.minimize returned Positive directional derivative for linesearch\n",
      "  warnings.warn(\n"
     ]
    },
    {
     "data": {
      "image/png": "[encoded data removed]",
      "text/plain": [
       "<Figure size 432x288 with 1 Axes>"
      ]
     },
     "metadata": {
      "needs_background": "light"
     },
     "output_type": "display_data"
    }
   ],
   "source": [
    "# still working on this part\n",
    "\n",
    "Xfinal = np.zeros((Tf,3))\n",
    "\n",
    "LengthHorizon = 3\n",
    "eps = 0.5\n",
    "y = np.zeros((3,LengthHorizon))\n",
    "\n",
    "def fun(x,u):\n",
    "    return x[1]-3*np.sin(x[0]/3)\n",
    "lb = -0.1\n",
    "ub = 0.1\n",
    "\n",
    "ite = 0\n",
    "\n",
    "while (abs(y[0,LengthHorizon-1]-xf[0])>eps or abs(y[1,LengthHorizon-1]-xf[1])>eps) and ite<15:\n",
    "    print(\"step %s\" % ite)\n",
    "    if (ite+LengthHorizon<Tf):\n",
    "        index = ite+LengthHorizon\n",
    "    else:\n",
    "        index = Tf-1\n",
    "\n",
    "    xgoal = [tps[index], 3*np.sin(tps[index]/3), (tps[index]-tps[index-1])/Tf]\n",
    "    traj_cost = opt.quadratic_cost(vehicle, Q, R, x0=xf, u0=uf)\n",
    "    term_cost = opt.quadratic_cost(vehicle, P, 0, x0=xf)\n",
    "     \n",
    "\n",
    "    constraints = [(scopt.NonlinearConstraint, fun, lb, ub), opt.input_range_constraint(vehicle, [min_velocity, min_deviation_phi], [max_velocity, max_deviation_phi]) ]\n",
    "    #constraints = []\n",
    "\n",
    "    horizon = np.linspace(0, LengthHorizon, LengthHorizon, endpoint=True)\n",
    "    result = opt.solve_ocp(vehicle, horizon, x0, traj_cost, constraints,terminal_cost=term_cost, initial_guess=u0)\n",
    "\n",
    "    # Simulate the system dynamics (open loop)\n",
    "    resp = ct.input_output_response(\n",
    "        vehicle, horizon, result.inputs, x0,\n",
    "        t_eval=np.linspace(0, LengthHorizon, LengthHorizon))\n",
    "    t, y, u = resp.time, resp.outputs, resp.inputs\n",
    "    \n",
    "    x0 = y[:,1]\n",
    "\n",
    "    Xfinal[ite,:] = y[:,1]\n",
    "    plt.plot(y[0], y[1], 'o-')\n",
    "    plt.legend(\"%s\" %ite)\n",
    "    ite += 1\n",
    "\n",
    "for j in range(LengthHorizon):\n",
    "    Xfinal[Tf-LengthHorizon+j,:] = y[:,len(y)-LengthHorizon+j]\n",
    "\n",
    "plt.plot(tps, 3*np.sin(tps/3), 'g')\n",
    "#plt.plot(Xfinal[0:ite+LengthHorizon,0],Xfinal[0:ite+LengthHorizon,1],'yo--',linewidth=5.0)\n",
    "plt.show()"
   ]
  },
  {
   "cell_type": "markdown",
   "metadata": {},
   "source": [
    "Final plot"
   ]
  },
  {
   "cell_type": "code",
   "execution_count": 268,
   "metadata": {},
   "outputs": [
    {
     "data": {
      "text/plain": [
       "array([[ 6.7694041 ,  8.49651109,  9.93869426],\n",
       "       [ 2.03231508,  0.7681551 , -0.50368822],\n",
       "       [-0.67213466, -0.65766776, -0.77121036]])"
      ]
     },
     "execution_count": 268,
     "metadata": {},
     "output_type": "execute_result"
    }
   ],
   "source": [
    "bool((abs(y[0,-1]-xf[0])>eps or abs(y[1,-1]-xf[1])>eps))\n",
    "y"
   ]
  }
 ],
 "metadata": {
  "kernelspec": {
   "display_name": "Python 3.10.1 64-bit",
   "language": "python",
   "name": "python3"
  },
  "language_info": {
   "codemirror_mode": {
    "name": "ipython",
    "version": 3
   },
   "file_extension": ".py",
   "mimetype": "text/x-python",
   "name": "python",
   "nbconvert_exporter": "python",
   "pygments_lexer": "ipython3",
   "version": "3.10.1"
  },
  "orig_nbformat": 4,
  "vscode": {
   "interpreter": {
    "hash": "ad3afe6606343acfe903ebc96f8aeb52e39d74ef327f91962a7a428567debb4d"
   }
  }
 },
 "nbformat": 4,
 "nbformat_minor": 2
}
