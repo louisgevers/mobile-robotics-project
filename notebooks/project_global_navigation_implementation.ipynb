{
 "cells": [
  {
   "cell_type": "markdown",
   "metadata": {},
   "source": [
    "# Basics of Mobile Robotics: Project - Part Global Nav\n",
    "\n",
    "\n",
    "# Author : PB"
   ]
  },
  {
   "cell_type": "code",
   "execution_count": 44,
   "metadata": {},
   "outputs": [],
   "source": [
    "import numpy as np\n",
    "import control as ct\n",
    "import control.optimal as opt\n",
    "import matplotlib.pyplot as plt\n",
    "import scipy.optimize as scopt\n",
    "from typing import Sequence\n",
    "from src import model,thymio"
   ]
  },
  {
   "cell_type": "markdown",
   "metadata": {},
   "source": [
    "## GLOBAL NAVIGATION IMPLEMENTATION\n",
    "\n",
    "I decided to develop and test my global navigation on this notebook before implementing it in the folder"
   ]
  },
  {
   "cell_type": "code",
   "execution_count": 22,
   "metadata": {},
   "outputs": [],
   "source": [
    "# USE OF MPC\n",
    "\n",
    "#\tX    -----------------      u       ---------\n",
    "#\t---> | MPC Regulator |------------> | Plant |----------> Output\n",
    "#\t|    -----------------              ---------   |\n",
    "#\t|           ^                                   |\n",
    "#\t|           | (xs, us)                          |\n",
    "#\t|           |                                   |\n",
    "#\t|           |       ------------                |\n",
    "#\t|           --------| target   |<----------------\n",
    "#\t|                   | selector |<-- reference   |\n",
    "#\t|                   ------------                |\n",
    "#\t|                                               |\n",
    "#\t-------------------------------------------------"
   ]
  },
  {
   "cell_type": "markdown",
   "metadata": {},
   "source": [
    "Initial parameters"
   ]
  },
  {
   "cell_type": "code",
   "execution_count": 29,
   "metadata": {},
   "outputs": [
    {
     "data": {
      "text/plain": [
       "[<matplotlib.lines.Line2D at 0x1ca0bda2200>]"
      ]
     },
     "execution_count": 29,
     "metadata": {},
     "output_type": "execute_result"
    },
    {
     "data": {
      "image/png": "[encoded data removed]",
      "text/plain": [
       "<Figure size 432x288 with 1 Axes>"
      ]
     },
     "metadata": {
      "needs_background": "light"
     },
     "output_type": "display_data"
    }
   ],
   "source": [
    "# initialization block\n",
    "Tf = 10\n",
    "min_velocity = 0\n",
    "max_velocity = 1\n",
    "min_deviation_phi = -1\n",
    "max_deviation_phi = 1\n",
    "\n",
    "tps = np.linspace(0, Tf, Tf)\n",
    "\n",
    "\n",
    "#create the data point\n",
    "xaxis = np.linspace(0.0, 10.0, num=100)\n",
    "yaxis = 20*np.sin(xaxis/5)\n",
    "\n",
    "Length = len(xaxis)\n",
    "Sequence = []\n",
    "for i in range(Length):\n",
    "    p = model.Point(xaxis[i], yaxis[i])\n",
    "    Sequence.append(p)\n",
    "#Sequence = np.array(Sequence)\n",
    "\n",
    "#plt.plot(tps, 3*np.sin(tps/3))\n",
    "plt.plot(xaxis, yaxis)\n",
    "\n",
    "x0 = [0., 0., 0.2]; u0 = [np.sqrt((tps[1]-tps[0])**2 + (np.sin(tps[1])-np.sin(tps[0]))**2), (tps[1]-tps[0])/Tf]\n",
    "xf = [Sequence[-1].x, Sequence[-1].y, 0.]; uf = [10., 0.]\n",
    "\n",
    "def lafonc(x):\n",
    "    return 3*np.sin(x/3)\n",
    "\n",
    "Q = np.array([[0.1, 10, 0],[0, 10, 0], [0, 0, 0.1]])          # don't turn too sharply\n",
    "R = np.diag([1, 1])               # keep inputs small\n",
    "P = np.diag([1000, 1000, 1000])   # get close to final point\n",
    "\n",
    "\n",
    "plt.plot(x0[0], x0[1], marker=\"o\")\n",
    "plt.plot(xf[0], xf[1], marker=\"o\")"
   ]
  },
  {
   "cell_type": "markdown",
   "metadata": {},
   "source": [
    "Useful functions"
   ]
  },
  {
   "cell_type": "code",
   "execution_count": 24,
   "metadata": {},
   "outputs": [],
   "source": [
    "def vehicle_update(t, x, u, params):\n",
    "    # Get the parameters for the model\n",
    "    l = params.get('wheelbase', 3.)         # vehicle wheelbase\n",
    "    #phimax = params.get('maxsteer', 0.5)    # max steering angle (rad)\n",
    "    \n",
    "    # Saturate the steering input\n",
    "    phi = np.clip(u[1], min_deviation_phi, max_deviation_phi)\n",
    "\n",
    "    # Return the derivative of the state\n",
    "    return np.array([\n",
    "        np.cos(x[2]) * u[0],            # xdot = cos(theta) v\n",
    "        np.sin(x[2]) * u[0],            # ydot = sin(theta) v\n",
    "        (u[0] / l) * np.tan(phi)        # thdot = v/l tan(phi)\n",
    "    ])\n",
    "\n",
    "\n",
    "\n",
    "def vehicle_output(t, x, u, params):\n",
    "    return x                            # return x, y, theta (full state)\n",
    "\n",
    "# Define the vehicle steering dynamics as an input/output system\n",
    "vehicle = ct.NonlinearIOSystem(\n",
    "    vehicle_update, vehicle_output, states=3, name='vehicle',\n",
    "    inputs=('v', 'phi'), outputs=('x', 'y', 'theta'))"
   ]
  },
  {
   "cell_type": "markdown",
   "metadata": {},
   "source": [
    "First iteration test"
   ]
  },
  {
   "cell_type": "code",
   "execution_count": 35,
   "metadata": {},
   "outputs": [
    {
     "name": "stdout",
     "output_type": "stream",
     "text": [
      "[(<class 'scipy.optimize._constraints.LinearConstraint'>, array([[1., 0., 0., 0., 0.],\n",
      "       [0., 1., 0., 0., 0.],\n",
      "       [0., 0., 1., 0., 0.]]), array([  0.,   3., -inf]), array([10., 10., inf])), (<class 'scipy.optimize._constraints.LinearConstraint'>, array([[0., 0., 0., 1., 0.],\n",
      "       [0., 0., 0., 0., 1.]]), array([ 0, -1]), array([1, 1]))]\n",
      "Summary statistics:\n",
      "* Cost function calls:"
     ]
    },
    {
     "name": "stderr",
     "output_type": "stream",
     "text": [
      "c:\\Users\\paul\\AppData\\Local\\Programs\\Python\\Python310\\lib\\site-packages\\scipy\\optimize\\_constraints.py:388: OptimizeWarning: At least one constraint is unbounded above and below. Such constraints are ignored.\n",
      "  warn(\"At least one constraint is unbounded above and below. Such \"\n",
      "c:\\Users\\paul\\AppData\\Local\\Programs\\Python\\Python310\\lib\\site-packages\\control\\optimal.py:862: UserWarning: unable to solve optimal control problem\n",
      "scipy.optimize.minimize returned Positive directional derivative for linesearch\n",
      "  warnings.warn(\n"
     ]
    },
    {
     "name": "stdout",
     "output_type": "stream",
     "text": [
      " 53\n",
      "* Constraint calls: 67\n",
      "* System simulations: 102\n",
      "* Final cost: 295544.98310494423\n"
     ]
    },
    {
     "data": {
      "image/png": "[encoded data removed]",
      "text/plain": [
       "<Figure size 432x288 with 1 Axes>"
      ]
     },
     "metadata": {
      "needs_background": "light"
     },
     "output_type": "display_data"
    },
    {
     "name": "stdout",
     "output_type": "stream",
     "text": [
      "[[0.         1.49563851 1.79808091]\n",
      " [0.         1.4158574  3.56746401]\n",
      " [0.2        1.28914941 1.27394738]]\n"
     ]
    }
   ],
   "source": [
    "LengthHorizon = 3\n",
    "\n",
    "traj_cost = opt.quadratic_cost(vehicle, Q, R, x0=xf, u0=uf)\n",
    "term_cost = opt.quadratic_cost(vehicle, P, 0, x0=xf)\n",
    "\n",
    "def fun(x,u):\n",
    "    index = min(range(len(Sequence)), key=lambda i: abs(Sequence[i].x-x[0]))\n",
    "    return x[1]-Sequence[index].y\n",
    "lb = -0.1\n",
    "ub = 0.1\n",
    "\n",
    "#constraints = [{\"type\": \"ineq\", \"fun\": lambda x: x[0] - 3*np.sin(x[1]/3)+2},{\"type\": \"ineq\", \"fun\": lambda x: -x[0] + 3*np.sin(x[1]/3)+2}]\n",
    "#constraints = [(scopt.NonlinearConstraint, fun, lb, ub), opt.input_range_constraint(vehicle, [min_velocity, min_deviation_phi], [max_velocity, max_deviation_phi]) ]\n",
    "WidthTunnel = 0.5\n",
    "# Sequence[min(range(len(Sequence)), key=lambda i: abs(Sequence[i].x-x[0]))].y-WidthTunnel\n",
    "constraints = [opt.state_range_constraint(vehicle, [0, 3, -np.inf], [10, 10, np.inf]), opt.input_range_constraint(vehicle, [min_velocity, min_deviation_phi], [max_velocity, max_deviation_phi])]\n",
    "print(constraints)  \n",
    "\n",
    "horizon = np.linspace(0, LengthHorizon, LengthHorizon, endpoint=True)\n",
    "result = opt.solve_ocp(vehicle, horizon, x0, traj_cost, constraints, terminal_cost=term_cost, initial_guess=u0, log=False)\n",
    "#result = opt.create_mpc_iosystem(vehicle, horizon, x0, traj_cost, constraints, terminal_cost=term_cost, initial_guess=u0, log=False)\n",
    "\n",
    "# Simulate the system dynamics (open loop)\n",
    "resp = ct.input_output_response(\n",
    "    vehicle, horizon, result.inputs, x0,\n",
    "    t_eval=np.linspace(0, LengthHorizon, LengthHorizon))\n",
    "t, y, u = resp.time, resp.outputs, resp.inputs\n",
    "\n",
    "# Plot\n",
    "plt.plot(x0[0], x0[1], 'ro', xf[0], xf[1], 'ro')\n",
    "plt.plot(xaxis, yaxis, 'g')\n",
    "plt.plot(y[0], y[1], 'o-')\n",
    "plt.show()\n",
    "print(y)"
   ]
  },
  {
   "cell_type": "markdown",
   "metadata": {},
   "source": [
    "Optimization loop"
   ]
  },
  {
   "cell_type": "code",
   "execution_count": null,
   "metadata": {},
   "outputs": [
    {
     "name": "stdout",
     "output_type": "stream",
     "text": [
      "step 0\n"
     ]
    },
    {
     "name": "stderr",
     "output_type": "stream",
     "text": [
      "c:\\Users\\paul\\AppData\\Local\\Programs\\Python\\Python310\\lib\\site-packages\\control\\optimal.py:862: UserWarning: unable to solve optimal control problem\n",
      "scipy.optimize.minimize returned Positive directional derivative for linesearch\n",
      "  warnings.warn(\n"
     ]
    },
    {
     "name": "stdout",
     "output_type": "stream",
     "text": [
      "Summary statistics:\n",
      "* Cost function calls: 75\n",
      "* Constraint calls: 92\n",
      "* System simulations: 145\n",
      "* Final cost: 281399.28937450575\n",
      "step 1\n"
     ]
    },
    {
     "name": "stderr",
     "output_type": "stream",
     "text": [
      "c:\\Users\\paul\\AppData\\Local\\Programs\\Python\\Python310\\lib\\site-packages\\control\\optimal.py:862: UserWarning: unable to solve optimal control problem\n",
      "scipy.optimize.minimize returned Positive directional derivative for linesearch\n",
      "  warnings.warn(\n",
      "c:\\Users\\paul\\AppData\\Local\\Programs\\Python\\Python310\\lib\\site-packages\\control\\optimal.py:862: UserWarning: unable to solve optimal control problem\n",
      "scipy.optimize.minimize returned Positive directional derivative for linesearch\n",
      "  warnings.warn(\n",
      "c:\\Users\\paul\\AppData\\Local\\Programs\\Python\\Python310\\lib\\site-packages\\control\\optimal.py:862: UserWarning: unable to solve optimal control problem\n",
      "scipy.optimize.minimize returned Positive directional derivative for linesearch\n",
      "  warnings.warn(\n"
     ]
    },
    {
     "name": "stdout",
     "output_type": "stream",
     "text": [
      "Summary statistics:\n",
      "* Cost function calls: 99\n",
      "* Constraint calls: 117\n",
      "* System simulations: 176\n",
      "* Final cost: 215839.32431021077\n",
      "step 2\n",
      "Summary statistics:\n",
      "* Cost function calls: 15\n",
      "* Constraint calls: 25\n",
      "* System simulations: 36\n",
      "* Final cost: 163320.7004587305\n",
      "step 3\n",
      "Summary statistics:\n",
      "* Cost function calls: 15\n",
      "* Constraint calls: 25\n",
      "* System simulations: 36\n",
      "* Final cost: 121798.87159851394\n",
      "step 4\n"
     ]
    },
    {
     "name": "stderr",
     "output_type": "stream",
     "text": [
      "c:\\Users\\paul\\AppData\\Local\\Programs\\Python\\Python310\\lib\\site-packages\\control\\optimal.py:862: UserWarning: unable to solve optimal control problem\n",
      "scipy.optimize.minimize returned Positive directional derivative for linesearch\n",
      "  warnings.warn(\n",
      "c:\\Users\\paul\\AppData\\Local\\Programs\\Python\\Python310\\lib\\site-packages\\control\\optimal.py:862: UserWarning: unable to solve optimal control problem\n",
      "scipy.optimize.minimize returned Positive directional derivative for linesearch\n",
      "  warnings.warn(\n"
     ]
    },
    {
     "name": "stdout",
     "output_type": "stream",
     "text": [
      "Summary statistics:\n",
      "* Cost function calls: 74\n",
      "* Constraint calls: 91\n",
      "* System simulations: 144\n",
      "* Final cost: 79669.65722992588\n",
      "step 5\n",
      "Summary statistics:\n",
      "* Cost function calls: 53\n",
      "* Constraint calls: 68\n",
      "* System simulations: 109\n",
      "* Final cost: 57890.01352610747\n",
      "step 6\n"
     ]
    },
    {
     "name": "stderr",
     "output_type": "stream",
     "text": [
      "c:\\Users\\paul\\AppData\\Local\\Programs\\Python\\Python310\\lib\\site-packages\\control\\optimal.py:862: UserWarning: unable to solve optimal control problem\n",
      "scipy.optimize.minimize returned Positive directional derivative for linesearch\n",
      "  warnings.warn(\n",
      "c:\\Users\\paul\\AppData\\Local\\Programs\\Python\\Python310\\lib\\site-packages\\control\\optimal.py:862: UserWarning: unable to solve optimal control problem\n",
      "scipy.optimize.minimize returned Positive directional derivative for linesearch\n",
      "  warnings.warn(\n"
     ]
    },
    {
     "name": "stdout",
     "output_type": "stream",
     "text": [
      "Summary statistics:\n",
      "* Cost function calls: 31\n",
      "* Constraint calls: 42\n",
      "* System simulations: 59\n",
      "* Final cost: 30090.56686752206\n",
      "step 7\n",
      "Summary statistics:\n",
      "* Cost function calls: 48\n",
      "* Constraint calls: 61\n",
      "* System simulations: 90\n",
      "* Final cost: 15518.939710659244\n",
      "step 8\n"
     ]
    },
    {
     "name": "stderr",
     "output_type": "stream",
     "text": [
      "c:\\Users\\paul\\AppData\\Local\\Programs\\Python\\Python310\\lib\\site-packages\\control\\optimal.py:862: UserWarning: unable to solve optimal control problem\n",
      "scipy.optimize.minimize returned Positive directional derivative for linesearch\n",
      "  warnings.warn(\n",
      "c:\\Users\\paul\\AppData\\Local\\Programs\\Python\\Python310\\lib\\site-packages\\control\\optimal.py:862: UserWarning: unable to solve optimal control problem\n",
      "scipy.optimize.minimize returned Positive directional derivative for linesearch\n",
      "  warnings.warn(\n"
     ]
    },
    {
     "name": "stdout",
     "output_type": "stream",
     "text": [
      "Summary statistics:\n",
      "* Cost function calls: 69\n",
      "* Constraint calls: 84\n",
      "* System simulations: 125\n",
      "* Final cost: 12619.789256908578\n",
      "step 9\n",
      "Summary statistics:\n",
      "* Cost function calls: 14\n",
      "* Constraint calls: 24\n",
      "* System simulations: 35\n",
      "* Final cost: 2951.543287061006\n",
      "step 10\n",
      "Summary statistics:\n",
      "* Cost function calls: 442\n",
      "* Constraint calls: 489\n",
      "* System simulations: 722\n",
      "* Final cost: 653.3034359238562\n"
     ]
    },
    {
     "name": "stderr",
     "output_type": "stream",
     "text": [
      "c:\\Users\\paul\\AppData\\Local\\Programs\\Python\\Python310\\lib\\site-packages\\control\\optimal.py:862: UserWarning: unable to solve optimal control problem\n",
      "scipy.optimize.minimize returned Positive directional derivative for linesearch\n",
      "  warnings.warn(\n"
     ]
    },
    {
     "ename": "IndexError",
     "evalue": "index 10 is out of bounds for axis 0 with size 10",
     "output_type": "error",
     "traceback": [
      "\u001b[1;31m---------------------------------------------------------------------------\u001b[0m",
      "\u001b[1;31mIndexError\u001b[0m                                Traceback (most recent call last)",
      "\u001b[1;32mc:\\Users\\paul\\Documents\\GitHub\\mobile-robotics-project\\notebooks\\project_global_navigation_implementation.ipynb Cell 12\u001b[0m in \u001b[0;36m<cell line: 17>\u001b[1;34m()\u001b[0m\n\u001b[0;32m     <a href='vscode-notebook-cell:/c%3A/Users/paul/Documents/GitHub/mobile-robotics-project/notebooks/project_global_navigation_implementation.ipynb#X14sZmlsZQ%3D%3D?line=38'>39</a>\u001b[0m t, y, u \u001b[39m=\u001b[39m resp\u001b[39m.\u001b[39mtime, resp\u001b[39m.\u001b[39moutputs, resp\u001b[39m.\u001b[39minputs\n\u001b[0;32m     <a href='vscode-notebook-cell:/c%3A/Users/paul/Documents/GitHub/mobile-robotics-project/notebooks/project_global_navigation_implementation.ipynb#X14sZmlsZQ%3D%3D?line=40'>41</a>\u001b[0m x0 \u001b[39m=\u001b[39m y[:,\u001b[39m1\u001b[39m]\n\u001b[1;32m---> <a href='vscode-notebook-cell:/c%3A/Users/paul/Documents/GitHub/mobile-robotics-project/notebooks/project_global_navigation_implementation.ipynb#X14sZmlsZQ%3D%3D?line=42'>43</a>\u001b[0m Xfinal[ite,:] \u001b[39m=\u001b[39m y[:,\u001b[39m1\u001b[39m]\n\u001b[0;32m     <a href='vscode-notebook-cell:/c%3A/Users/paul/Documents/GitHub/mobile-robotics-project/notebooks/project_global_navigation_implementation.ipynb#X14sZmlsZQ%3D%3D?line=43'>44</a>\u001b[0m plt\u001b[39m.\u001b[39mplot(y[\u001b[39m0\u001b[39m], y[\u001b[39m1\u001b[39m], \u001b[39m'\u001b[39m\u001b[39mo-\u001b[39m\u001b[39m'\u001b[39m)\n\u001b[0;32m     <a href='vscode-notebook-cell:/c%3A/Users/paul/Documents/GitHub/mobile-robotics-project/notebooks/project_global_navigation_implementation.ipynb#X14sZmlsZQ%3D%3D?line=44'>45</a>\u001b[0m plt\u001b[39m.\u001b[39mlegend(\u001b[39m\"\u001b[39m\u001b[39m%s\u001b[39;00m\u001b[39m\"\u001b[39m \u001b[39m%\u001b[39mite)\n",
      "\u001b[1;31mIndexError\u001b[0m: index 10 is out of bounds for axis 0 with size 10"
     ]
    },
    {
     "data": {
      "image/png": "[encoded data removed]",
      "text/plain": [
       "<Figure size 432x288 with 1 Axes>"
      ]
     },
     "metadata": {
      "needs_background": "light"
     },
     "output_type": "display_data"
    }
   ],
   "source": [
    "# still working on this part\n",
    "\n",
    "Xfinal = np.zeros((Tf,3))\n",
    "\n",
    "LengthHorizon = 3\n",
    "eps = 0.5\n",
    "y = np.zeros((3,LengthHorizon))\n",
    "\n",
    "def fun(x,u):\n",
    "    index = min(range(len(Sequence)), key=lambda i: abs(Sequence[i].x-x[0]))\n",
    "    return x[1]-Sequence[index].y\n",
    "lb = -0.1\n",
    "ub = 0.1\n",
    "\n",
    "ite = 0\n",
    "\n",
    "while (abs(y[0,LengthHorizon-1]-xf[0])>eps or abs(y[1,LengthHorizon-1]-xf[1])>eps) and ite<15:\n",
    "    print(\"step %s\" % ite)\n",
    "    if (ite+LengthHorizon<Tf):\n",
    "        index = ite+LengthHorizon\n",
    "    else:\n",
    "        index = Tf-1\n",
    "\n",
    "    #xgoal = [tps[index], 3*np.sin(tps[index]/3), (tps[index]-tps[index-1])/Tf]\n",
    "    traj_cost = opt.quadratic_cost(vehicle, Q, R, x0=xf, u0=uf)\n",
    "    term_cost = opt.quadratic_cost(vehicle, P, 0, x0=xf)\n",
    "     \n",
    "\n",
    "    constraints = [(scopt.NonlinearConstraint, fun, lb, ub), opt.input_range_constraint(vehicle, [min_velocity, min_deviation_phi], [max_velocity, max_deviation_phi]) ]\n",
    "    #constraints = []\n",
    "\n",
    "    horizon = np.linspace(0, LengthHorizon, LengthHorizon, endpoint=True)\n",
    "    result = opt.solve_ocp(vehicle, horizon, x0, traj_cost, constraints,terminal_cost=term_cost, initial_guess=u0)\n",
    "\n",
    "    # Simulate the system dynamics (open loop)\n",
    "    resp = ct.input_output_response(\n",
    "        vehicle, horizon, result.inputs, x0,\n",
    "        t_eval=np.linspace(0, LengthHorizon, LengthHorizon))\n",
    "    t, y, u = resp.time, resp.outputs, resp.inputs\n",
    "    \n",
    "    x0 = y[:,1]\n",
    "\n",
    "    Xfinal[ite,:] = y[:,1]\n",
    "    plt.plot(y[0], y[1], 'o-')\n",
    "    plt.legend(\"%s\" %ite)\n",
    "    ite += 1\n",
    "\n",
    "for j in range(LengthHorizon):\n",
    "    Xfinal[Tf-LengthHorizon+j,:] = y[:,len(y)-LengthHorizon+j]\n",
    "\n",
    "plt.plot(xaxis, yaxis, 'g')\n",
    "#plt.plot(Xfinal[0:ite+LengthHorizon,0],Xfinal[0:ite+LengthHorizon,1],'yo--',linewidth=5.0)\n",
    "plt.show()"
   ]
  },
  {
   "cell_type": "markdown",
   "metadata": {},
   "source": [
    "PID"
   ]
  },
  {
   "cell_type": "code",
   "execution_count": 47,
   "metadata": {},
   "outputs": [],
   "source": [
    "#at last, where the added value of a MPC controller ? hmmm, difficult to see\n",
    "# so let's go PID\n",
    "\n",
    "\n",
    "#to put in the initialization file\n",
    "PID_errors = np.zeros((1,3))\n",
    "\n",
    "def follow_path(robot: model.Robot, path: Sequence[model.Point]) -> model.MotorSpeed:\n",
    "    ### Access the robot's pose\n",
    "    # robot.position.x\n",
    "    # robot.position.y\n",
    "    # robot.position.z\n",
    "\n",
    "    index = min(range(len(path)), key=lambda i: abs(path[i].x-robot.position.x))\n",
    "    error = (robot.position.y-path[index].y) # error of position\n",
    "\n",
    "    # PID correction\n",
    "    PID_errors[0], PID_errors[1]; PID_errors[2] = error, PID_errors[1]+error, error-PID_errors[0]\n",
    "    # basically it does what is below\n",
    "    #proportional, p = error\n",
    "    #integrator, i += p\n",
    "    #derivative, d = p - lp\n",
    "    #update previous error, lp = p\n",
    "\n",
    "    max_speed = 255\n",
    "    #Ziegler-Nichols method for PID\n",
    "    Ku, Tu = 1, 1\n",
    "    PID_coefficients = np.array([0.6*Ku,1.2*Ku/Tu,3*Ku*Tu/40]) #[Kp, Ki, Kd]\n",
    "    #adding the correction to the base_speed for the left and right motor\n",
    "    correction = int(PID_coefficients*PID_errors)\n",
    "    if robot.angle<np.pi/2 and robot.angle>-np.pi/2:\n",
    "        if error>0:\n",
    "            rspeed = max_speed - correction\n",
    "            lspeed = max_speed\n",
    "        else:\n",
    "            rspeed = max_speed\n",
    "            lspeed = max_speed - correction\n",
    "    else:\n",
    "        if error>0:\n",
    "            rspeed = max_speed\n",
    "            lspeed = max_speed - correction\n",
    "        else:\n",
    "            rspeed = max_speed - correction \n",
    "            lspeed = max_speed       \n",
    "\n",
    "    #restricting speeds of motors between 255 and -255\n",
    "    if (rspeed > 255):\n",
    "        rspeed = 255    \n",
    "    if (lspeed > 255):\n",
    "        lspeed = 255    \n",
    "    if (rspeed < -255):\n",
    "        rspeed = -255    \n",
    "    if (lspeed < -255):\n",
    "        lspeed = -255\n",
    "\n",
    "    ### Return the command to send to the motors\n",
    "    return model.MotorSpeed(lspeed, rspeed)\n",
    "    # pass"
   ]
  }
 ],
 "metadata": {
  "kernelspec": {
   "display_name": "Python 3.10.1 64-bit",
   "language": "python",
   "name": "python3"
  },
  "language_info": {
   "codemirror_mode": {
    "name": "ipython",
    "version": 3
   },
   "file_extension": ".py",
   "mimetype": "text/x-python",
   "name": "python",
   "nbconvert_exporter": "python",
   "pygments_lexer": "ipython3",
   "version": "3.10.1"
  },
  "orig_nbformat": 4,
  "vscode": {
   "interpreter": {
    "hash": "ad3afe6606343acfe903ebc96f8aeb52e39d74ef327f91962a7a428567debb4d"
   }
  }
 },
 "nbformat": 4,
 "nbformat_minor": 2
}
