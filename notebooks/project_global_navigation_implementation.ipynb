{
 "cells": [
  {
   "cell_type": "markdown",
   "metadata": {},
   "source": [
    "# Basics of Mobile Robotics: Project - Global Nav\n",
    "\n",
    "\n",
    "# Author : PB"
   ]
  },
  {
   "cell_type": "code",
   "execution_count": 1,
   "metadata": {},
   "outputs": [],
   "source": [
    "import numpy as np\n",
    "import control as ct\n",
    "import control.optimal as opt\n",
    "import matplotlib.pyplot as plt\n",
    "import scipy.optimize as scopt\n",
    "from typing import Sequence\n",
    "from src import model,thymio"
   ]
  },
  {
   "cell_type": "markdown",
   "metadata": {},
   "source": [
    "## GLOBAL NAVIGATION IMPLEMENTATION\n",
    "\n",
    "I decided to develop and test my global navigation on this notebook before implementing it in the folder"
   ]
  },
  {
   "cell_type": "code",
   "execution_count": null,
   "metadata": {},
   "outputs": [],
   "source": [
    "# USE OF MPC\n",
    "\n",
    "#\tX    -----------------      u       ---------\n",
    "#\t---> | MPC Regulator |------------> | Plant |----------> Output\n",
    "#\t|    -----------------              ---------   |\n",
    "#\t|           ^                                   |\n",
    "#\t|           | (xs, us)                          |\n",
    "#\t|           |                                   |\n",
    "#\t|           |       ------------                |\n",
    "#\t|           --------| target   |<----------------\n",
    "#\t|                   | selector |<-- reference   |\n",
    "#\t|                   ------------                |\n",
    "#\t|                                               |\n",
    "#\t-------------------------------------------------"
   ]
  },
  {
   "cell_type": "markdown",
   "metadata": {},
   "source": [
    "Initial parameters"
   ]
  },
  {
   "cell_type": "code",
   "execution_count": null,
   "metadata": {},
   "outputs": [],
   "source": [
    "# initialization block\n",
    "Tf = 10\n",
    "min_velocity = 0\n",
    "max_velocity = 1\n",
    "min_deviation_phi = -1\n",
    "max_deviation_phi = 1\n",
    "\n",
    "tps = np.linspace(0, Tf, Tf)\n",
    "\n",
    "\n",
    "#create the data point\n",
    "xaxis = np.linspace(0.0, 10.0, num=100)\n",
    "yaxis = 20*np.sin(xaxis/5)\n",
    "\n",
    "Length = len(xaxis)\n",
    "Sequence = []\n",
    "for i in range(Length):\n",
    "    p = model.Point(xaxis[i], yaxis[i])\n",
    "    Sequence.append(p)\n",
    "#Sequence = np.array(Sequence)\n",
    "\n",
    "#plt.plot(tps, 3*np.sin(tps/3))\n",
    "plt.plot(xaxis, yaxis)\n",
    "\n",
    "x0 = [0., 0., 0.2]; u0 = [np.sqrt((tps[1]-tps[0])**2 + (np.sin(tps[1])-np.sin(tps[0]))**2), (tps[1]-tps[0])/Tf]\n",
    "xf = [Sequence[-1].x, Sequence[-1].y, 0.]; uf = [10., 0.]\n",
    "\n",
    "def lafonc(x):\n",
    "    return 3*np.sin(x/3)\n",
    "\n",
    "Q = np.array([[0.1, 10, 0],[0, 10, 0], [0, 0, 0.1]])          # don't turn too sharply\n",
    "R = np.diag([1, 1])               # keep inputs small\n",
    "P = np.diag([1000, 1000, 1000])   # get close to final point\n",
    "\n",
    "\n",
    "plt.plot(x0[0], x0[1], marker=\"o\")\n",
    "plt.plot(xf[0], xf[1], marker=\"o\")"
   ]
  },
  {
   "cell_type": "markdown",
   "metadata": {},
   "source": [
    "Useful functions"
   ]
  },
  {
   "cell_type": "code",
   "execution_count": null,
   "metadata": {},
   "outputs": [],
   "source": [
    "def vehicle_update(t, x, u, params):\n",
    "    # Get the parameters for the model\n",
    "    l = params.get('wheelbase', 3.)         # vehicle wheelbase\n",
    "    #phimax = params.get('maxsteer', 0.5)    # max steering angle (rad)\n",
    "    \n",
    "    # Saturate the steering input\n",
    "    phi = np.clip(u[1], min_deviation_phi, max_deviation_phi)\n",
    "\n",
    "    # Return the derivative of the state\n",
    "    return np.array([\n",
    "        np.cos(x[2]) * u[0],            # xdot = cos(theta) v\n",
    "        np.sin(x[2]) * u[0],            # ydot = sin(theta) v\n",
    "        (u[0] / l) * np.tan(phi)        # thdot = v/l tan(phi)\n",
    "    ])\n",
    "\n",
    "\n",
    "\n",
    "def vehicle_output(t, x, u, params):\n",
    "    return x                            # return x, y, theta (full state)\n",
    "\n",
    "# Define the vehicle steering dynamics as an input/output system\n",
    "vehicle = ct.NonlinearIOSystem(\n",
    "    vehicle_update, vehicle_output, states=3, name='vehicle',\n",
    "    inputs=('v', 'phi'), outputs=('x', 'y', 'theta'))"
   ]
  },
  {
   "cell_type": "markdown",
   "metadata": {},
   "source": [
    "First iteration test"
   ]
  },
  {
   "cell_type": "code",
   "execution_count": null,
   "metadata": {},
   "outputs": [],
   "source": [
    "LengthHorizon = 3\n",
    "\n",
    "traj_cost = opt.quadratic_cost(vehicle, Q, R, x0=xf, u0=uf)\n",
    "term_cost = opt.quadratic_cost(vehicle, P, 0, x0=xf)\n",
    "\n",
    "def fun(x,u):\n",
    "    index = min(range(len(Sequence)), key=lambda i: abs(Sequence[i].x-x[0]))\n",
    "    return x[1]-Sequence[index].y\n",
    "lb = -0.1\n",
    "ub = 0.1\n",
    "\n",
    "#constraints = [{\"type\": \"ineq\", \"fun\": lambda x: x[0] - 3*np.sin(x[1]/3)+2},{\"type\": \"ineq\", \"fun\": lambda x: -x[0] + 3*np.sin(x[1]/3)+2}]\n",
    "#constraints = [(scopt.NonlinearConstraint, fun, lb, ub), opt.input_range_constraint(vehicle, [min_velocity, min_deviation_phi], [max_velocity, max_deviation_phi]) ]\n",
    "WidthTunnel = 0.5\n",
    "# Sequence[min(range(len(Sequence)), key=lambda i: abs(Sequence[i].x-x[0]))].y-WidthTunnel\n",
    "constraints = [opt.state_range_constraint(vehicle, [0, 3, -np.inf], [10, 10, np.inf]), opt.input_range_constraint(vehicle, [min_velocity, min_deviation_phi], [max_velocity, max_deviation_phi])]\n",
    "print(constraints)  \n",
    "\n",
    "horizon = np.linspace(0, LengthHorizon, LengthHorizon, endpoint=True)\n",
    "result = opt.solve_ocp(vehicle, horizon, x0, traj_cost, constraints, terminal_cost=term_cost, initial_guess=u0, log=False)\n",
    "#result = opt.create_mpc_iosystem(vehicle, horizon, x0, traj_cost, constraints, terminal_cost=term_cost, initial_guess=u0, log=False)\n",
    "\n",
    "# Simulate the system dynamics (open loop)\n",
    "resp = ct.input_output_response(\n",
    "    vehicle, horizon, result.inputs, x0,\n",
    "    t_eval=np.linspace(0, LengthHorizon, LengthHorizon))\n",
    "t, y, u = resp.time, resp.outputs, resp.inputs\n",
    "\n",
    "# Plot\n",
    "plt.plot(x0[0], x0[1], 'ro', xf[0], xf[1], 'ro')\n",
    "plt.plot(xaxis, yaxis, 'g')\n",
    "plt.plot(y[0], y[1], 'o-')\n",
    "plt.show()\n",
    "print(y)"
   ]
  },
  {
   "cell_type": "markdown",
   "metadata": {},
   "source": [
    "Optimization loop"
   ]
  },
  {
   "cell_type": "code",
   "execution_count": null,
   "metadata": {},
   "outputs": [],
   "source": [
    "# still working on this part\n",
    "\n",
    "Xfinal = np.zeros((Tf,3))\n",
    "\n",
    "LengthHorizon = 3\n",
    "eps = 0.5\n",
    "y = np.zeros((3,LengthHorizon))\n",
    "\n",
    "def fun(x,u):\n",
    "    index = min(range(len(Sequence)), key=lambda i: abs(Sequence[i].x-x[0]))\n",
    "    return x[1]-Sequence[index].y\n",
    "lb = -0.1\n",
    "ub = 0.1\n",
    "\n",
    "ite = 0\n",
    "\n",
    "while (abs(y[0,LengthHorizon-1]-xf[0])>eps or abs(y[1,LengthHorizon-1]-xf[1])>eps) and ite<15:\n",
    "    print(\"step %s\" % ite)\n",
    "    if (ite+LengthHorizon<Tf):\n",
    "        index = ite+LengthHorizon\n",
    "    else:\n",
    "        index = Tf-1\n",
    "\n",
    "    #xgoal = [tps[index], 3*np.sin(tps[index]/3), (tps[index]-tps[index-1])/Tf]\n",
    "    traj_cost = opt.quadratic_cost(vehicle, Q, R, x0=xf, u0=uf)\n",
    "    term_cost = opt.quadratic_cost(vehicle, P, 0, x0=xf)\n",
    "     \n",
    "\n",
    "    constraints = [(scopt.NonlinearConstraint, fun, lb, ub), opt.input_range_constraint(vehicle, [min_velocity, min_deviation_phi], [max_velocity, max_deviation_phi]) ]\n",
    "    #constraints = []\n",
    "\n",
    "    horizon = np.linspace(0, LengthHorizon, LengthHorizon, endpoint=True)\n",
    "    result = opt.solve_ocp(vehicle, horizon, x0, traj_cost, constraints,terminal_cost=term_cost, initial_guess=u0)\n",
    "\n",
    "    # Simulate the system dynamics (open loop)\n",
    "    resp = ct.input_output_response(\n",
    "        vehicle, horizon, result.inputs, x0,\n",
    "        t_eval=np.linspace(0, LengthHorizon, LengthHorizon))\n",
    "    t, y, u = resp.time, resp.outputs, resp.inputs\n",
    "    \n",
    "    x0 = y[:,1]\n",
    "\n",
    "    Xfinal[ite,:] = y[:,1]\n",
    "    plt.plot(y[0], y[1], 'o-')\n",
    "    plt.legend(\"%s\" %ite)\n",
    "    ite += 1\n",
    "\n",
    "for j in range(LengthHorizon):\n",
    "    Xfinal[Tf-LengthHorizon+j,:] = y[:,len(y)-LengthHorizon+j]\n",
    "\n",
    "plt.plot(xaxis, yaxis, 'g')\n",
    "#plt.plot(Xfinal[0:ite+LengthHorizon,0],Xfinal[0:ite+LengthHorizon,1],'yo--',linewidth=5.0)\n",
    "plt.show()"
   ]
  },
  {
   "cell_type": "markdown",
   "metadata": {},
   "source": [
    "PID"
   ]
  },
  {
   "cell_type": "code",
   "execution_count": 9,
   "metadata": {},
   "outputs": [],
   "source": [
    "#at last, where the added value of a MPC controller ? hmmm, difficult to see\n",
    "# so let's go PID\n",
    "\n",
    "#to put in the initialization file\n",
    "PID_errors = np.zeros((1,3))\n",
    "\n",
    "def follow_path(robot: model.Robot, path: Sequence[model.Point]) -> model.MotorSpeed:\n",
    "    ### Access the robot's pose\n",
    "    # robot.position.x\n",
    "    # robot.position.y\n",
    "    # robot.position.z\n",
    "\n",
    "    #find the closest index in the path array with the current robot position\n",
    "    index = min(range(len(path)), key=lambda i: abs(path[i].x-robot.position.x))\n",
    "\n",
    "    # Calcul of the perpendicular distance between the robot position and the path\n",
    "    PathPosH, PathPosL = index+1,index\n",
    "    if index+1>=len(path)-1:\n",
    "        PathPosH, PathPosL = len(path)-1,len(path)-2  \n",
    "    p1 = np.array([path[index].x, path[index].y]) #previous correct position on the path\n",
    "    p2 = np.array([path[index+1].x, path[index+1].y]) #previous correct position on the path\n",
    "    p3 = np.array([robot.position.x, robot.position.y]) #array of the robot position\n",
    "\n",
    "    d=abs(np.cross(p2-p1,p3-p1)/np.linalg.norm(p2-p1))\n",
    "\n",
    "    # error > 0 robot over the correct path\n",
    "    # error > à robot below the correct path\n",
    "    if p3(1)>=p1(1) or p3(1)>=p2(1):\n",
    "        error = d # error of position\n",
    "    else:\n",
    "        error = -d\n",
    "\n",
    "    # PID correction\n",
    "    PID_errors[0], PID_errors[1]; PID_errors[2] = error, PID_errors[1]+error, error-PID_errors[0]\n",
    "    # basically it does what is below\n",
    "    #proportional, p = error\n",
    "    #integrator, i += p\n",
    "    #derivative, d = p - lp\n",
    "    #update previous error, lp = p\n",
    "\n",
    "    max_speed = 255\n",
    "    #Ziegler-Nichols method for PID\n",
    "    Ku, Tu = 1, 1\n",
    "    PID_coefficients = np.array([0.6*Ku,1.2*Ku/Tu,3*Ku*Tu/40]) #[Kp, Ki, Kd]\n",
    "    #adding the correction to the base_speed for the left and right motor\n",
    "    correction = int(PID_coefficients*PID_errors)\n",
    "    \n",
    "    # checking the direction of the robot to reduce the speed of the closest motor engine to the correct path\n",
    "    if robot.angle>0 and robot.angle<np.pi:\n",
    "        if error>0:\n",
    "            rspeed = max_speed - correction\n",
    "            lspeed = max_speed\n",
    "        else:\n",
    "            rspeed = max_speed\n",
    "            lspeed = max_speed - correction\n",
    "    else:\n",
    "        if error>0:\n",
    "            rspeed = max_speed\n",
    "            lspeed = max_speed - correction\n",
    "        else:\n",
    "            rspeed = max_speed - correction \n",
    "            lspeed = max_speed       \n",
    "\n",
    "    #restricting speed of motors between 255 and -255\n",
    "    if (rspeed > 255):\n",
    "        rspeed = 255    \n",
    "    if (lspeed > 255):\n",
    "        lspeed = 255    \n",
    "    if (rspeed < -255):\n",
    "        rspeed = -255    \n",
    "    if (lspeed < -255):\n",
    "        lspeed = -255\n",
    "\n",
    "    ### Return the command to send to the motors\n",
    "    return model.MotorSpeed(lspeed, rspeed)\n",
    "    # pass"
   ]
  },
  {
   "cell_type": "code",
   "execution_count": 7,
   "metadata": {},
   "outputs": [
    {
     "name": "stdout",
     "output_type": "stream",
     "text": [
      "1.414213562373095\n"
     ]
    }
   ],
   "source": [
    "p1=np.array([0,0])\n",
    "p2=np.array([10,10])\n",
    "p3=np.array([5,7])\n",
    "d=np.cross(p2-p1,p3-p1)/np.linalg.norm(p2-p1)\n",
    "print(d)\n"
   ]
  }
 ],
 "metadata": {
  "kernelspec": {
   "display_name": "Python 3.10.1 64-bit",
   "language": "python",
   "name": "python3"
  },
  "language_info": {
   "codemirror_mode": {
    "name": "ipython",
    "version": 3
   },
   "file_extension": ".py",
   "mimetype": "text/x-python",
   "name": "python",
   "nbconvert_exporter": "python",
   "pygments_lexer": "ipython3",
   "version": "3.10.1"
  },
  "orig_nbformat": 4,
  "vscode": {
   "interpreter": {
    "hash": "ad3afe6606343acfe903ebc96f8aeb52e39d74ef327f91962a7a428567debb4d"
   }
  }
 },
 "nbformat": 4,
 "nbformat_minor": 2
}
